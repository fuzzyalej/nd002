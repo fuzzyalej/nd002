{
 "cells": [
  {
   "cell_type": "markdown",
   "metadata": {},
   "source": [
    "# Overview\n",
    "\n",
    "In this project, you will demonstrate your knowledge of descriptive statistics by conducting an experiment dealing with drawing from a deck of playing cards and creating a write up containing your findings.\n",
    "\n",
    "This experiment will require the use of a standard deck of playing cards. This is a deck of fifty-two cards divided into four suits (spades (♠), hearts (♥), diamonds (♦), and clubs (♣)), each suit containing thirteen cards (Ace, numbers 2-10, and face cards Jack, Queen, and King). You can use either a physical deck of cards for this experiment or you may use our data generator in the Generate Data section.\n",
    "\n",
    "For the purposes of this task, assign each card a value: The Ace takes a value of 1, numbered cards take the value printed on the card, and the Jack, Queen, and King each take a value of 10."
   ]
  },
  {
   "cell_type": "code",
   "execution_count": 1,
   "metadata": {
    "collapsed": false
   },
   "outputs": [],
   "source": [
    "# Basic imports\n",
    "import pandas as pd\n",
    "import numpy as np\n",
    "import matplotlib.pyplot as plt"
   ]
  },
  {
   "cell_type": "markdown",
   "metadata": {},
   "source": [
    "# Single Draws\n",
    "\n",
    "If we draw single cards, we have a small sample space so we can describe the whole population."
   ]
  },
  {
   "cell_type": "code",
   "execution_count": 104,
   "metadata": {
    "collapsed": false
   },
   "outputs": [
    {
     "name": "stdout",
     "output_type": "stream",
     "text": [
      "  number suit  value\n",
      "0      A    s      1\n",
      "1      A    h      1\n",
      "2      A    d      1\n",
      "3      A    c      1\n",
      "4      2    s      2\n"
     ]
    }
   ],
   "source": [
    "numbers = ['A', 2, 3, 4, 5, 6, 7, 8, 9, 10, 'J', 'Q', 'K']\n",
    "suits = ['s', 'h', 'd', 'c']\n",
    "tmp_deck = []\n",
    "\n",
    "# Let's create all the cards\n",
    "for number in numbers:\n",
    "    for suit in suits:\n",
    "        value = number\n",
    "        \n",
    "        if number == 'A':\n",
    "            value = 1\n",
    "        elif number in set(['J', 'Q', 'K']):\n",
    "            value = 10\n",
    "            \n",
    "        tmp_deck.append({'number': number, 'suit': suit, 'value': value})\n",
    "        \n",
    "deck = pd.DataFrame(tmp_deck)\n",
    "print(deck.head())"
   ]
  },
  {
   "cell_type": "markdown",
   "metadata": {},
   "source": [
    "Once we have the basic deck created, we can get some basic metrics from the values of the cards:"
   ]
  },
  {
   "cell_type": "code",
   "execution_count": 109,
   "metadata": {
    "collapsed": false,
    "scrolled": true
   },
   "outputs": [
    {
     "name": "stdout",
     "output_type": "stream",
     "text": [
      "########################################\n",
      "mean: 6.54\n",
      "median: 7.00\n",
      "sd: 3.15\n",
      "########################################\n"
     ]
    }
   ],
   "source": [
    "# Get basic metrics\n",
    "mean = deck.mean().value\n",
    "median = deck.median().value\n",
    "sd = deck.std(ddof=0).value #sd for the whole population, not a sample\n",
    "\n",
    "print('#'*40)\n",
    "print(\"mean: {:.2f}\\nmedian: {:.2f}\\nsd: {:.2f}\".format(mean, median, sd))\n",
    "print('#'*40)"
   ]
  },
  {
   "cell_type": "markdown",
   "metadata": {},
   "source": [
    "We can also see the histogram, skewed to the right because there are a lot of cards with value `10`:"
   ]
  },
  {
   "cell_type": "code",
   "execution_count": 107,
   "metadata": {
    "collapsed": false
   },
   "outputs": [
    {
     "data": {
      "image/png": "[encoded data removed]",
      "text/plain": [
       "<matplotlib.figure.Figure at 0x10c483cf8>"
      ]
     },
     "metadata": {},
     "output_type": "display_data"
    }
   ],
   "source": [
    "plt.hist(deck['value'], bins=10)\n",
    "plt.show()"
   ]
  },
  {
   "cell_type": "markdown",
   "metadata": {},
   "source": [
    "## Three card draws\n",
    "\n",
    "If we draw cards 3 at a time, we don't have access to the whole sample space so we have to work with random samples, and apply the **Central Limit Theorem**.\n",
    "\n",
    "Let's start by creating 10,000 random picks:"
   ]
  },
  {
   "cell_type": "code",
   "execution_count": 112,
   "metadata": {
    "collapsed": false
   },
   "outputs": [
    {
     "name": "stdout",
     "output_type": "stream",
     "text": [
      "   index number suit  value  draw\n",
      "0      3      A    c      1     1\n",
      "1     24      7    s      7     1\n",
      "2     48      K    s     10     1\n",
      "3     29      8    h      8     2\n",
      "4     34      9    d      9     2\n",
      "5     48      K    s     10     2\n"
     ]
    }
   ],
   "source": [
    "frames = []\n",
    "for i in range(10000):\n",
    "    draw = deck.sample(3, replace=False) # Take a sample (n=3), without replacing\n",
    "    draw['draw'] = i+1 # The number of the draw, shared by the 3 draws of each round\n",
    "    frames.append(draw)\n",
    "draws = pd.concat(frames).reset_index()\n",
    "print(draws.head(6))"
   ]
  },
  {
   "cell_type": "markdown",
   "metadata": {},
   "source": [
    "- Create a histogram of the sampled three-card sums. Compare its shape to that of the original distribution. How are they different, and can you explain why this is the case?\n",
    "\n",
    "If we get the sums of each 3-card draw and create a new histogram, we can see that it follows a normal distribution with a small glitch on 30, as it's very probable to pick 3 cards of value 10."
   ]
  },
  {
   "cell_type": "code",
   "execution_count": 68,
   "metadata": {
    "collapsed": false
   },
   "outputs": [
    {
     "data": {
      "image/png": "[encoded data removed]",
      "text/plain": [
       "<matplotlib.figure.Figure at 0x119d8ba58>"
      ]
     },
     "metadata": {},
     "output_type": "display_data"
    }
   ],
   "source": [
    "sum_by_draw = draws.groupby('draw').sum()\n",
    "plt.hist(sum_by_draw.values, bins=25)\n",
    "plt.show()"
   ]
  },
  {
   "cell_type": "markdown",
   "metadata": {},
   "source": [
    "We can describe the samples taken by getting some metrics: "
   ]
  },
  {
   "cell_type": "code",
   "execution_count": 116,
   "metadata": {
    "collapsed": false
   },
   "outputs": [
    {
     "name": "stdout",
     "output_type": "stream",
     "text": [
      "mean: 19.55\n",
      "median: 20.00\n",
      "sd: 5.40\n",
      "              value\n",
      "count  10000.000000\n",
      "mean      19.553100\n",
      "std        5.400805\n",
      "min        4.000000\n",
      "25%       16.000000\n",
      "50%       20.000000\n",
      "75%       23.000000\n",
      "max       30.000000\n"
     ]
    }
   ],
   "source": [
    "sum_mean = np.mean(sum_by_draw.values)\n",
    "sum_median = np.median(sum_by_draw.values)\n",
    "sum_sd = np.std(sum_by_draw.values) #sample sd\n",
    "\n",
    "print(\"mean: {:.2f}\\nmedian: {:.2f}\\nsd: {:.2f}\".format(sum_mean, sum_median, sum_sd))\n",
    "print(sum_by_draw.describe())"
   ]
  },
  {
   "cell_type": "markdown",
   "metadata": {},
   "source": [
    "## Estimations\n",
    "\n",
    "- Within what range will you expect approximately 90% of your draw values to fall?\n",
    "If we want a 90% accuracy, then we need a 5% padding on each side. If we consult the z-table we can see that 95% corresponds to a z-score of 1.64, so the range of z-scores will be [-1.64, 1.64]. If we convert the z-scores to values of x we get the range [x1, x2]:\n",
    "\n",
    "  x1 = -1.64*5.40+19.55 = 10.69\n",
    "\n",
    "  x2 = 1.64*5.40+19.55 = 28.80\n",
    "  \n",
    "  **That means that 90% of our draws will be between 10.69 and 28.80.**\n",
    "  \n",
    "\n",
    "- What is the approximate probability that you will get a draw value of at least 20?\n",
    "We have to convert 20 to z-score, and look it up on the table:\n",
    "\n",
    "  z = (20 - 19.55)/5.40 = 0.08\n",
    "  \n",
    "  on the table, thats p' = 0.5319. If we want 'at least' that value, we have to reverse it:\n",
    "  \n",
    "  p = 1 - p' = 1 - 0.5319 = **0.4682**"
   ]
  },
  {
   "cell_type": "markdown",
   "metadata": {},
   "source": [
    "## Extra stuff"
   ]
  },
  {
   "cell_type": "markdown",
   "metadata": {},
   "source": [
    "As we can see, the random generation of cards worked fine. There is a similar number of cards generated bu suit and by number:"
   ]
  },
  {
   "cell_type": "code",
   "execution_count": 151,
   "metadata": {
    "collapsed": false
   },
   "outputs": [
    {
     "name": "stdout",
     "output_type": "stream",
     "text": [
      "suit\n",
      "c    7595\n",
      "d    7554\n",
      "h    7415\n",
      "s    7436\n",
      "dtype: int64\n"
     ]
    }
   ],
   "source": [
    "draws_by_suit = draws.groupby('suit').size()\n",
    "print(draws_by_suit)"
   ]
  },
  {
   "cell_type": "code",
   "execution_count": 155,
   "metadata": {
    "collapsed": false
   },
   "outputs": [
    {
     "name": "stdout",
     "output_type": "stream",
     "text": [
      "number\n",
      "2     2326\n",
      "3     2255\n",
      "4     2289\n",
      "5     2341\n",
      "6     2291\n",
      "7     2272\n",
      "8     2363\n",
      "9     2330\n",
      "10    2253\n",
      "A     2271\n",
      "J     2366\n",
      "K     2390\n",
      "Q     2253\n",
      "dtype: int64\n"
     ]
    }
   ],
   "source": [
    "print(draws.groupby('number').size())"
   ]
  },
  {
   "cell_type": "markdown",
   "metadata": {},
   "source": [
    "## References\n",
    "\n",
    "- [statistics formula reference](http://stattrek.com/statistics/formulas.aspx)\n",
    "- [pyplot documentation](https://matplotlib.org/api/pyplot_api.html)\n",
    "- [pandas documentation](http://pandas.pydata.org/pandas-docs/stable/)\n",
    "- [python 'format' documentation](https://pyformat.info/)"
   ]
  }
 ],
 "metadata": {
  "kernelspec": {
   "display_name": "Python 3",
   "language": "python",
   "name": "python3"
  },
  "language_info": {
   "codemirror_mode": {
    "name": "ipython",
    "version": 3
   },
   "file_extension": ".py",
   "mimetype": "text/x-python",
   "name": "python",
   "nbconvert_exporter": "python",
   "pygments_lexer": "ipython3",
   "version": "3.6.0"
  }
 },
 "nbformat": 4,
 "nbformat_minor": 2
}
